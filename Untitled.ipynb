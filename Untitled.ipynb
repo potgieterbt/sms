{
 "cells": [
  {
   "cell_type": "code",
   "execution_count": 7,
   "metadata": {},
   "outputs": [
    {
     "ename": "ModuleNotFoundError",
     "evalue": "No module named 'serial'",
     "output_type": "error",
     "traceback": [
      "\u001b[0;31m---------------------------------------------------------------------------\u001b[0m",
      "\u001b[0;31mModuleNotFoundError\u001b[0m                       Traceback (most recent call last)",
      "\u001b[0;32m<ipython-input-7-bdc800f8e28f>\u001b[0m in \u001b[0;36m<module>\u001b[0;34m()\u001b[0m\n\u001b[0;32m----> 1\u001b[0;31m \u001b[0;32mimport\u001b[0m \u001b[0mserial\u001b[0m\u001b[0;34m\u001b[0m\u001b[0m\n\u001b[0m\u001b[1;32m      2\u001b[0m \u001b[0;32mimport\u001b[0m \u001b[0mtime\u001b[0m\u001b[0;34m\u001b[0m\u001b[0m\n\u001b[1;32m      3\u001b[0m \u001b[0;32mimport\u001b[0m \u001b[0msys\u001b[0m\u001b[0;34m\u001b[0m\u001b[0m\n\u001b[1;32m      4\u001b[0m \u001b[0;32mimport\u001b[0m \u001b[0msqlite3\u001b[0m\u001b[0;34m\u001b[0m\u001b[0m\n\u001b[1;32m      5\u001b[0m \u001b[0;32mimport\u001b[0m \u001b[0mnumpy\u001b[0m\u001b[0;34m\u001b[0m\u001b[0m\n",
      "\u001b[0;31mModuleNotFoundError\u001b[0m: No module named 'serial'"
     ]
    }
   ],
   "source": [
    "import serial\n",
    "import time\n",
    "import sys\n",
    "import sqlite3\n",
    "import numpy\n",
    "import datetime\n",
    "# import ipython\n",
    "\n",
    "global data\n",
    "data = ''\n",
    "\n",
    "conn=sqlite3.connect(\"recieved_messages1.db\")\n",
    "cur=conn.cursor()\n",
    "cur.execute(\"CREATE TABLE IF NOT EXISTS recieved_messages1 (content TEXT)\")\n",
    "conn.commit()\n",
    "conn.close()\n",
    "\n",
    "def view():\n",
    "    conn=sqlite3.connect(\"recieved_messages1.db\")\n",
    "    cur=conn.cursor()\n",
    "    cur.execute(\"SELECT * FROM recieved_messages1\")\n",
    "    rows=cur.fetchall()\n",
    "    conn.close()\n",
    "    return rows\n",
    "    print(rows)\n",
    "\n",
    "def insert(data):\n",
    "    conn=sqlite3.connect(\"recieved_messages1.db\")\n",
    "    cur=conn.cursor()\n",
    "\n",
    "    time_stamp = datetime.datetime.now()\n",
    "\n",
    "    print(data)\n",
    "    cur.execute(\"INSERT INTO recieved_messages1 VALUES (?)\",(data))\n",
    "    conn.commit()\n",
    "    conn.close()\n",
    "\n",
    "\n",
    "class HuaweiModem(object):\n",
    "\n",
    "    def __init__(self):\n",
    "        self.open()\n",
    "\n",
    "    def open(self):\n",
    "        self.ser = serial.Serial('/dev/ttyUSB0', 406800, timeout=5)\n",
    "        self.SendCommand('ATZ\\r')\n",
    "        self.SendCommand('AT+CMGF=1\\r')\n",
    "\n",
    "\n",
    "    def SendCommand(self,command, getline=True):\n",
    "        self.ser.write(command)\n",
    "        if getline:\n",
    "            data=self.ReadLine()\n",
    "        return data \n",
    "\n",
    "    def ReadLine(self):\n",
    "        data = self.ser.readline()\n",
    "        # insert(data)\n",
    "        print(data)\n",
    "        return data \n",
    "\n",
    "\n",
    "\n",
    "    def GetAllSMS(self):\n",
    "        self.ser.flushInput()\n",
    "        self.ser.flushOutput()\n",
    "\n",
    "\n",
    "\n",
    "        command = 'AT+CMGL=\"ALL\"\\r\\n'#gets incoming sms that has not been read\n",
    "        print(self.SendCommand(command,getline=True))\n",
    "        data = self.ser.readall(),replace(\",\",\";\")\n",
    "        insert(data)\n",
    "        print(data)\n",
    "\n",
    "print(data)\n",
    "h = HuaweiModem()\n",
    "h.GetAllSMS()\n",
    "insert(data)\n",
    "h.ReadLine()\n",
    "\n",
    "insert(data)\n",
    "view()"
   ]
  },
  {
   "cell_type": "code",
   "execution_count": null,
   "metadata": {},
   "outputs": [],
   "source": []
  },
  {
   "cell_type": "code",
   "execution_count": null,
   "metadata": {},
   "outputs": [],
   "source": []
  },
  {
   "cell_type": "code",
   "execution_count": null,
   "metadata": {},
   "outputs": [],
   "source": []
  },
  {
   "cell_type": "code",
   "execution_count": null,
   "metadata": {},
   "outputs": [],
   "source": []
  },
  {
   "cell_type": "code",
   "execution_count": null,
   "metadata": {},
   "outputs": [],
   "source": []
  },
  {
   "cell_type": "code",
   "execution_count": null,
   "metadata": {},
   "outputs": [],
   "source": []
  },
  {
   "cell_type": "code",
   "execution_count": null,
   "metadata": {},
   "outputs": [],
   "source": []
  },
  {
   "cell_type": "code",
   "execution_count": null,
   "metadata": {},
   "outputs": [],
   "source": []
  }
 ],
 "metadata": {
  "kernelspec": {
   "display_name": "Python 2",
   "language": "python",
   "name": "python2"
  },
  "language_info": {
   "codemirror_mode": {
    "name": "ipython",
    "version": 3
   },
   "file_extension": ".py",
   "mimetype": "text/x-python",
   "name": "python",
   "nbconvert_exporter": "python",
   "pygments_lexer": "ipython3",
   "version": "3.6.5"
  }
 },
 "nbformat": 4,
 "nbformat_minor": 2
}
